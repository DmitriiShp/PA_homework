{
 "cells": [
  {
   "attachments": {},
   "cell_type": "markdown",
   "id": "a93d2778",
   "metadata": {},
   "source": [
    "## Задача 1:\n",
    "Оформляйте ноутбук, используя эти советы:\n",
    "Номер задачи - заголовок 2\n",
    "Номер подзадачи - заголовок 3\n",
    "Предоставленные наборы данных оформляйте, как код"
   ]
  },
  {
   "attachments": {},
   "cell_type": "markdown",
   "id": "3aa6e729",
   "metadata": {},
   "source": [
    "## Задача 2:\n",
    "На складе лежат разные фрукты в разном количестве.\n",
    "Нужно написать функцию, которая на вход принимает любое количество названий фруктов и их количество, а возвращает общее количество фруктов на складе"
   ]
  },
  {
   "cell_type": "code",
   "execution_count": 11,
   "id": "e50a9204",
   "metadata": {},
   "outputs": [
    {
     "name": "stdout",
     "output_type": "stream",
     "text": [
      "Общее количество фруктов: 50\n"
     ]
    }
   ],
   "source": [
    "fruit_data = {'Апельсины': 5, 'Бананы': 10,'Яблоки': 12,'Ананасы': 8,'Мандарины': 15}\n",
    "def fruit_sum (**kwargs):\n",
    "    result = 0\n",
    "    for _, value in kwargs.items():\n",
    "        result += value\n",
    "    return result\n",
    "print (f'Общее количество фруктов: {fruit_sum(**fruit_data)}')\n",
    "    "
   ]
  },
  {
   "attachments": {},
   "cell_type": "markdown",
   "id": "1f1c609a",
   "metadata": {},
   "source": [
    "## Задача 3:\n",
    "Дан список с затратами на рекламу. Но в данных есть ошибки, некоторые затраты имеют отрицательную величину. Удалите такие значения из списка и посчитайте суммарные затраты\n",
    "[100, 125, -90, 345, 655, -1, 0, 200]\n",
    "Используйте list comprehensions"
   ]
  },
  {
   "cell_type": "code",
   "execution_count": 12,
   "id": "d8cf1c1c",
   "metadata": {},
   "outputs": [
    {
     "data": {
      "text/plain": [
       "1425"
      ]
     },
     "execution_count": 12,
     "metadata": {},
     "output_type": "execute_result"
    }
   ],
   "source": [
    "data = [100, 125, -90, 345, 655, -1, 0, 200]\n",
    "data_new = [i for i in data if i > 0]\n",
    "cost_sum = 0\n",
    "for i in data_new:\n",
    "    cost_sum += i\n",
    "cost_sum"
   ]
  },
  {
   "attachments": {},
   "cell_type": "markdown",
   "id": "95a80aea",
   "metadata": {},
   "source": [
    "## Задача 4:\n",
    "### Задача 4.1:\n",
    "Даны два списка.\n",
    "Дата покупки\n",
    "['2021-09-14', '2021-12-15', '2021-09-08', '2021-12-05', '2021-10-09', '2021-09-30', '2021-12-22', '2021-11-29', '2021-12-24', '2021-11-26', '2021-10-27', '2021-12-18', '2021-11-09', '2021-11-23', '2021-09-27', '2021-10-02', '2021-12-27', '2021-09-20', '2021-12-13', '2021-11-01', '2021-11-09', '2021-12-06', '2021-12-08', '2021-10-09', '2021-10-31', '2021-09-30', '2021-11-09', '2021-12-13', '2021-10-26', '2021-12-09']\n",
    "Суммы покупок по датам\n",
    "[1270, 8413, 9028, 3703, 5739, 4095, 295, 4944, 5723, 3701, 4471, 651, 7037, 4274, 6275, 4988, 6930, 2971, 6592, 2004, 2822, 519, 3406, 2732, 5015, 2008, 316, 6333, 5700, 2887]\n",
    "4.1 Найдите, какая выручка у компании в ноябре\n",
    "Используйте list comprehensions"
   ]
  },
  {
   "cell_type": "code",
   "execution_count": 57,
   "id": "38eedab8",
   "metadata": {},
   "outputs": [
    {
     "data": {
      "text/plain": [
       "15239"
      ]
     },
     "execution_count": 57,
     "metadata": {},
     "output_type": "execute_result"
    }
   ],
   "source": [
    "date_of_purchase = ['2021-09-14', '2021-12-15', '2021-09-08', '2021-12-05', '2021-10-09', '2021-09-30', '2021-12-22', '2021-11-29', '2021-12-24', '2021-11-26', '2021-10-27', '2021-12-18', '2021-11-09', '2021-11-23', '2021-09-27', '2021-10-02', '2021-12-27', '2021-09-20', '2021-12-13', '2021-11-01', '2021-11-09', '2021-12-06', '2021-12-08', '2021-10-09', '2021-10-31', '2021-09-30', '2021-11-09', '2021-12-13', '2021-10-26', '2021-12-09']\n",
    "amount_of_purchase = [1270, 8413, 9028, 3703, 5739, 4095, 295, 4944, 5723, 3701, 4471, 651, 7037, 4274, 6275, 4988, 6930, 2971, 6592, 2004, 2822, 519, 3406, 2732, 5015, 2008, 316, 6333, 5700, 2887]\n",
    "def get_dict (keys: list, values: list) -> dict:\n",
    "    return {keys[i]: values[i] for i in range(len(keys))}\n",
    "\n",
    "amount_dict = get_dict(date_of_purchase, amount_of_purchase)\n",
    "gen_amount = 0\n",
    "for keys, value in amount_dict.items():\n",
    "    if '-11-' in keys:\n",
    "        gen_amount += value\n",
    "gen_amount"
   ]
  },
  {
   "attachments": {},
   "cell_type": "markdown",
   "id": "13e51e8e",
   "metadata": {},
   "source": [
    "### Задача 4.2:\n",
    "Найдите выручку компании в зависимости от месяца Для этого напишите функцию, которая на вход принимает список с датами и список с выручкой, а на выходе словарь, где ключи - это месяцы, а значения - это выручка. Используйте аннотирование типов."
   ]
  },
  {
   "cell_type": "code",
   "execution_count": 59,
   "id": "fb93a245",
   "metadata": {},
   "outputs": [
    {
     "data": {
      "text/plain": [
       "22906"
      ]
     },
     "execution_count": 59,
     "metadata": {},
     "output_type": "execute_result"
    }
   ],
   "source": [
    "# Т.к. задачу 4.1. я уже решил через функцию, то я просто добавил в эту функцию 3-ий аргумент - это месяц\n",
    "def get_revenue (keys: list, values: list, month: str) -> int:\n",
    "    amount_dict = {keys[i]: values[i] for i in range(len(keys))}\n",
    "    gen_amount = 0\n",
    "    for keys, value in amount_dict.items():\n",
    "        if ('-' + month + '-') in keys:\n",
    "            gen_amount += value\n",
    "    return gen_amount\n",
    "\n",
    "month = '10'            \n",
    "get_revenue(date_of_purchase, amount_of_purchase, month)"
   ]
  },
  {
   "cell_type": "code",
   "execution_count": null,
   "id": "473b5285",
   "metadata": {},
   "outputs": [],
   "source": []
  }
 ],
 "metadata": {
  "kernelspec": {
   "display_name": "Python 3 (ipykernel)",
   "language": "python",
   "name": "python3"
  },
  "language_info": {
   "codemirror_mode": {
    "name": "ipython",
    "version": 3
   },
   "file_extension": ".py",
   "mimetype": "text/x-python",
   "name": "python",
   "nbconvert_exporter": "python",
   "pygments_lexer": "ipython3",
   "version": "3.9.13"
  }
 },
 "nbformat": 4,
 "nbformat_minor": 5
}
